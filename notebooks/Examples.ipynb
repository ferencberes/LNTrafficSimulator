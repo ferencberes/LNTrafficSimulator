{
 "cells": [
  {
   "cell_type": "markdown",
   "metadata": {},
   "source": [
    "# 1. Basic examples"
   ]
  },
  {
   "cell_type": "markdown",
   "metadata": {},
   "source": [
    "## Prepare LN data\n",
    "\n",
    "In order to run the simulation you need to provide LN snapshots as well as information about merchants nodes. In this notebooks you can try our LN traffic simulator on a small sample data. **If you want to use the full data set related to our work then please follow the instructions in the [documentation](https://lnsimulator.readthedocs.io/en/latest/getting_started.html#data).**\n",
    "\n",
    "### LN snapshots\n",
    "\n",
    "The network structure is fed to `lnsimulator` in the form of LN snapshots. Raw JSON files as well as preprocessed payment channel data can be used as input."
   ]
  },
  {
   "cell_type": "markdown",
   "metadata": {},
   "source": [
    "#### Load data from JSON file"
   ]
  },
  {
   "cell_type": "code",
   "execution_count": null,
   "metadata": {},
   "outputs": [],
   "source": [
    "from lnsimulator.ln_utils import preprocess_json_file\n",
    "\n",
    "data_dir = \"../sample_data/\"\n",
    "directed_edges = preprocess_json_file(\"%s/sample.json\" % data_dir)"
   ]
  },
  {
   "cell_type": "markdown",
   "metadata": {},
   "source": [
    "### Merchants\n",
    "\n",
    "We provided the list of LN merchants that we used in our experiments. This merchant information was collected in early 2019."
   ]
  },
  {
   "cell_type": "code",
   "execution_count": null,
   "metadata": {},
   "outputs": [],
   "source": [
    "import pandas as pd\n",
    "node_meta = pd.read_csv(\"%s/1ml_meta_data.csv\" % data_dir)\n",
    "providers = list(node_meta[\"pub_key\"])"
   ]
  },
  {
   "cell_type": "markdown",
   "metadata": {},
   "source": [
    "## Configuration\n",
    "\n",
    "First we give you the list of main parameters.\n",
    "\n",
    "| Parameter | Description |\n",
    "|     :---      |   :---   |\n",
    "| `amount` |  value of each simulated transaction in satoshis  |\n",
    "| `count`  | number of random transactions to sample  |\n",
    "| `epsilon` |  ratio of merchants among transactions endpoints  |\n",
    "| `drop_disabled` | drop temporarily disabled channels |\n",
    "| `drop_low_cap` | drop channels with capacity less than `amount` |\n",
    "| `with_depletion` | the available channel capacity is maintained for both endpoints |\n",
    "\n",
    "You can initialize the traffic simulator by providing the network structure, merchants information and the former parameters."
   ]
  },
  {
   "cell_type": "code",
   "execution_count": null,
   "metadata": {},
   "outputs": [],
   "source": [
    "import lnsimulator.simulator.transaction_simulator as ts\n",
    "\n",
    "amount = 60000\n",
    "count = 7000\n",
    "epsilon = 0.8\n",
    "drop_disabled = True\n",
    "drop_low_cap = True\n",
    "with_depletion = True\n",
    "\n",
    "simulator = ts.TransactionSimulator(directed_edges, providers, amount, count, drop_disabled=drop_disabled, drop_low_cap=drop_low_cap, epsilon=epsilon, with_depletion=with_depletion)"
   ]
  },
  {
   "cell_type": "markdown",
   "metadata": {},
   "source": [
    "## Estimating daily income and traffic\n",
    "\n",
    "### i.) Transactions\n",
    "\n",
    "The simulator samples a set of random transactions (during the initialization) that will be used for the estimation of daily node traffic and routing income. You can access the sampled transactions in the form of a `pandas.DataFrame`."
   ]
  },
  {
   "cell_type": "code",
   "execution_count": null,
   "metadata": {},
   "outputs": [],
   "source": [
    "transactions = simulator.transactions\n",
    "print(transactions.head())\n",
    "print(transactions.shape)"
   ]
  },
  {
   "cell_type": "markdown",
   "metadata": {},
   "source": [
    "### ii.) Run simulation\n",
    "\n",
    "In this step the simulator searches for cheapest payment paths from transaction senders to its receivers. Channel capacity changes are well maintained during the simulation. "
   ]
  },
  {
   "cell_type": "code",
   "execution_count": null,
   "metadata": {},
   "outputs": [],
   "source": [
    "cheapest_paths, _, all_router_fees, _ = simulator.simulate(weight=\"total_fee\", with_node_removals=False)"
   ]
  },
  {
   "cell_type": "markdown",
   "metadata": {},
   "source": [
    "### iii.) Results\n",
    "\n",
    "After payment simulation you can export the results as well as calculate traffic and income statistics for LN nodes."
   ]
  },
  {
   "cell_type": "code",
   "execution_count": null,
   "metadata": {},
   "outputs": [],
   "source": [
    "output_dir = \"test\"\n",
    "total_income, total_fee = simulator.export(output_dir)"
   ]
  },
  {
   "cell_type": "markdown",
   "metadata": {},
   "source": [
    "In order to get stable daily LN node statistics, we recommend to run the simulator for multiple times over several consecutive snapshots. **Node statistics in each output file below are restricted to a single traffic simulator experiment!** You can find these file in the `output_dir` folder.\n",
    "\n",
    "#### a.) lengths_distrib.csv\n",
    "\n",
    "Distribution of payment path length for the sampled transactions. Due to the source routing nature of LN, we assumed that transactions are executed on the cheapest path between the sender and the recipient.\n",
    "\n",
    "| Column | Description |\n",
    "|     :---      |   :---   |\n",
    "| First | Payment path length |\n",
    "| Second | Number of sampled transactions with given length |\n",
    "\n",
    "**Note:** the length is marked -1 if the payment failed (there was no available path for routing)\n",
    "\n",
    "**Note:** the sum of transactions in the second column could be less then the predefined number of payments to simulate. The difference is the number of randomly sampled loop transactions with identical sender and recipient node.\n",
    "\n",
    "#### b.) router_incomes.csv\n",
    "\n",
    "Contains statistics on nodes that forwarded payments in the simulation. We refer to these nodes as **routers**.\n",
    "\n",
    "| Column | Description |\n",
    "|     :---      |   :---   |\n",
    "| node | LN node public key |\n",
    "| fee | routing income |\n",
    "| num_trans | number of routed transactions |\n",
    "\n",
    "#### c.) source_fees.csv\n",
    "\n",
    "Contains statistics on payment initiator nodes (senders).\n",
    "\n",
    "| Column | Description |\n",
    "|     :---      |   :---   |\n",
    "| source | LN node that initiated the payment (sender node) |\n",
    "| num_trans | the number of transactions initiated by this node in the simulation |\n",
    "| mean_fee | the mean transaction cost per payment |"
   ]
  },
  {
   "cell_type": "markdown",
   "metadata": {},
   "source": [
    "## Useful function calls\n",
    "\n",
    "There are alternative ways to interact with the simulator object beside exporting the results (with the `simulator.export(output_dir)` function). Please follow the examples below."
   ]
  },
  {
   "cell_type": "markdown",
   "metadata": {},
   "source": [
    "#### Top nodes with highest daily income\n",
    "\n",
    "You can search for the identity of these nodes on [1ml.com](https://1ml.com)."
   ]
  },
  {
   "cell_type": "code",
   "execution_count": null,
   "metadata": {},
   "outputs": [],
   "source": [
    "total_income.sort_values(\"fee\", ascending=False).set_index(\"node\").head(5)"
   ]
  },
  {
   "cell_type": "markdown",
   "metadata": {},
   "source": [
    "#### Top nodes with highest daily traffic"
   ]
  },
  {
   "cell_type": "code",
   "execution_count": null,
   "metadata": {},
   "outputs": [],
   "source": [
    "total_income.sort_values(\"num_trans\", ascending=False).set_index(\"node\").head(5)"
   ]
  },
  {
   "cell_type": "markdown",
   "metadata": {},
   "source": [
    "#### Payment path length distribution\n",
    "\n",
    "**Note:** the length is marked -1 if the payment failed (there was no available path for routing)"
   ]
  },
  {
   "cell_type": "code",
   "execution_count": null,
   "metadata": {},
   "outputs": [],
   "source": [
    "cheapest_paths[\"length\"].value_counts()"
   ]
  },
  {
   "cell_type": "markdown",
   "metadata": {},
   "source": [
    "#### Payment succes ratio"
   ]
  },
  {
   "cell_type": "code",
   "execution_count": null,
   "metadata": {},
   "outputs": [],
   "source": [
    "(cheapest_paths[\"length\"] > -1).value_counts() / len(cheapest_paths)"
   ]
  },
  {
   "cell_type": "markdown",
   "metadata": {},
   "source": [
    "#### Payment cost statistics"
   ]
  },
  {
   "cell_type": "code",
   "execution_count": null,
   "metadata": {},
   "outputs": [],
   "source": [
    "cheapest_paths[\"original_cost\"].describe()"
   ]
  },
  {
   "cell_type": "markdown",
   "metadata": {},
   "source": [
    "#### Most frequent payment receivers"
   ]
  },
  {
   "cell_type": "code",
   "execution_count": null,
   "metadata": {},
   "outputs": [],
   "source": [
    "simulator.transactions[\"target\"].value_counts().head(5)"
   ]
  },
  {
   "cell_type": "markdown",
   "metadata": {},
   "source": [
    "#### Number of unique payment senders and receivers"
   ]
  },
  {
   "cell_type": "code",
   "execution_count": null,
   "metadata": {},
   "outputs": [],
   "source": [
    "simulator.transactions[\"source\"].nunique(), simulator.transactions[\"target\"].nunique()"
   ]
  },
  {
   "cell_type": "markdown",
   "metadata": {},
   "source": [
    "# 2. Advanced examples"
   ]
  },
  {
   "cell_type": "markdown",
   "metadata": {},
   "source": [
    "## Parameters explained\n",
    "\n",
    "Here is the list of main parameters. **By the word \"transaction\" we refer to LN payments.**\n",
    "\n",
    "| Parameter | Description | Default value |\n",
    "|     :---      |   :---   | :---\n",
    "| `amount` |  value of each simulated transaction in satoshis  | **Must be set** |\n",
    "| `count`  | number of random transactions to sample  | **Must be set** |\n",
    "| `epsilon` |  ratio of merchants among transactions endpoints  | 0.8 |\n",
    "| `drop_disabled` | drop temporarily disabled channels | True |\n",
    "| `drop_low_cap` | drop channels with capacity less than `amount` | True |\n",
    "| `with_depletion` | the available channel capacity is maintained for both endpoints | True |\n",
    "\n",
    "The following examples will help you to understand the effect of each parameter. As `amount` and `count` are very straightforward parameters we will start with how to set merchant ratio for payment receivers."
   ]
  },
  {
   "cell_type": "markdown",
   "metadata": {},
   "source": [
    "### Merchant ratio for payment receivers\n",
    "\n",
    "The number of unique receivers is the highest when **receivers sampled uniformly at random** (`epsilon=0.0`) while you have the chance to send payments **only to merchants** (`epsilon=1.0`). In most of our experiments we sample merchant receivers with high probability (`epsilon=0.8`) but we also select random receivers as well with small probability."
   ]
  },
  {
   "cell_type": "code",
   "execution_count": null,
   "metadata": {},
   "outputs": [],
   "source": [
    "only_merchant_receivers = ts.TransactionSimulator(directed_edges, providers, amount, count, epsilon=1.0)\n",
    "many_merchant_receivers = ts.TransactionSimulator(directed_edges, providers, amount, count, epsilon=0.8)\n",
    "uniform_receivers = ts.TransactionSimulator(directed_edges, providers, amount, count, epsilon=0.0)\n",
    "print(only_merchant_receivers.transactions[\"target\"].nunique())\n",
    "print(many_merchant_receivers.transactions[\"target\"].nunique())\n",
    "print(uniform_receivers.transactions[\"target\"].nunique())"
   ]
  },
  {
   "cell_type": "markdown",
   "metadata": {},
   "source": [
    "### Control channel exclusion with `drop_disabled` and `drop_low_cap`\n",
    "\n",
    "Channels can be temporarily disabled for a given snapshot while active for others. If you want to **enable disabled channels** in your experiments then use `drop_disabled=False`. But "
   ]
  },
  {
   "cell_type": "code",
   "execution_count": null,
   "metadata": {},
   "outputs": [],
   "source": [
    "default_sim = ts.TransactionSimulator(directed_edges, providers, amount, count, drop_disabled=True, drop_low_cap=True)\n",
    "with_disabled_sim = ts.TransactionSimulator(directed_edges, providers, amount, count, drop_disabled=False, drop_low_cap=True)\n",
    "print(default_sim.edges.shape)\n",
    "print(with_disabled_sim.edges.shape)"
   ]
  },
  {
   "cell_type": "markdown",
   "metadata": {},
   "source": [
    "A payment can only be forwarded on a given channel if the channel capacity is at least the value of the payment (`drop_low_cap=True`). But in the simulation you have the possibility to disabled this condition (`drop_low_cap=False`)."
   ]
  },
  {
   "cell_type": "code",
   "execution_count": null,
   "metadata": {},
   "outputs": [],
   "source": [
    "with_lowcap_sim = ts.TransactionSimulator(directed_edges, providers, amount, count, drop_disabled=False, drop_low_cap=False)\n",
    "print(with_lowcap_sim.edges.shape)"
   ]
  },
  {
   "cell_type": "markdown",
   "metadata": {},
   "source": [
    "### Updating node balances with payments\n",
    "\n",
    "Individual balances of LN nodes is a private data but `lnsimulator` can **keep track of capacity imbalances** (`with_depletion=True`) as payments are executed on the fly. After distributing capacities randomly between related channel endpoints (initialization step), our simulator can monitor whether a node has enough outbound capacity on a given channel to forward the upcoming payment with respect to the payment value. This feature has several advantages:\n",
    "\n",
    "- ability to detect node capacity depletions in case of heavy one-way traffic\n",
    "- better understanding of payment failures\n",
    "\n",
    "In case you disable this feature (`with_depletion=False`) payments can pass a channel in a fixed direction infinitely many times as long as the payment value is at most the channel capacity.\n",
    "\n",
    "In the next example we observe the payment failure ratio with respect to the `with_depletio` parameter."
   ]
  },
  {
   "cell_type": "code",
   "execution_count": null,
   "metadata": {},
   "outputs": [],
   "source": [
    "sim_with_dep = ts.TransactionSimulator(directed_edges, providers, amount, count, with_depletion=True)\n",
    "_, _, _, _ = sim_with_dep.simulate(weight=\"total_fee\")"
   ]
  },
  {
   "cell_type": "code",
   "execution_count": null,
   "metadata": {},
   "outputs": [],
   "source": [
    "sim_wout_dep = ts.TransactionSimulator(directed_edges, providers, amount, count, with_depletion=False)\n",
    "_, _, _, _ = sim_wout_dep.simulate(weight=\"total_fee\")"
   ]
  },
  {
   "cell_type": "markdown",
   "metadata": {},
   "source": [
    "Transaction success rates are lower if capacity depletion is enabled (`with_depletion=True`). This indicates that **there are channels with heavy one-way traffic**."
   ]
  },
  {
   "cell_type": "code",
   "execution_count": null,
   "metadata": {},
   "outputs": [],
   "source": [
    "print(\"Succes rate with depletions:\", sim_with_dep.transactions[\"success\"].mean())\n",
    "print(\"Succes rate without depletions:\", sim_wout_dep.transactions[\"success\"].mean())"
   ]
  },
  {
   "cell_type": "markdown",
   "metadata": {},
   "source": [
    "## Advanced simulation features\n",
    "\n",
    "In the past experiment after initializing your simulator the `simulate()` function executed cheapest path routing by default without modifying the available channel data. Now let's see some additional use cases."
   ]
  },
  {
   "cell_type": "code",
   "execution_count": null,
   "metadata": {},
   "outputs": [],
   "source": [
    "sim = ts.TransactionSimulator(directed_edges, providers, amount, count)"
   ]
  },
  {
   "cell_type": "markdown",
   "metadata": {},
   "source": [
    "### Routing algorithm\n",
    "\n",
    "For now you can choose between two routing algorithms by setting the `weight` parameter\n",
    "\n",
    "- **cheapest path** routing (`weight=\"total_fee\"` - DEFAULT SETTING)\n",
    "- **shortest path** routing (`weight=None`)"
   ]
  },
  {
   "cell_type": "code",
   "execution_count": null,
   "metadata": {},
   "outputs": [],
   "source": [
    "shortest_paths, _, _, _ = sim.simulate(weight=None)\n",
    "cheapest_paths, _, _, _ = sim.simulate(weight=\"total_fee\")"
   ]
  },
  {
   "cell_type": "markdown",
   "metadata": {},
   "source": [
    "#### Filter out payments that could not be routed (they are denoted with `length==-1`)\n",
    "\n",
    "Then observe the average path length for the simulated payments"
   ]
  },
  {
   "cell_type": "code",
   "execution_count": null,
   "metadata": {},
   "outputs": [],
   "source": [
    "print(shortest_paths[shortest_paths[\"length\"]>0][\"length\"].mean())\n",
    "print(cheapest_paths[cheapest_paths[\"length\"]>0][\"length\"].mean())"
   ]
  },
  {
   "cell_type": "markdown",
   "metadata": {},
   "source": [
    "### Node removal\n",
    "\n",
    "You can observe the effects of node removals as well by providing a list of LN node public keys. In this case every channel adjacent to the given nodes will be removed during payment simulation. \n",
    "\n",
    "**In this example we exclude the top 5 nodes with highest routing income**"
   ]
  },
  {
   "cell_type": "code",
   "execution_count": null,
   "metadata": {},
   "outputs": [],
   "source": [
    "_, _, all_router_fees, _ = sim.simulate(weight=\"total_fee\")\n",
    "print(\"Succes rate BEFORE exclusion:\", sim.transactions[\"success\"].mean())"
   ]
  },
  {
   "cell_type": "code",
   "execution_count": null,
   "metadata": {},
   "outputs": [],
   "source": [
    "top_5_stats = all_router_fees.groupby(\"node\")[\"fee\"].sum().sort_values(ascending=False).head(5)\n",
    "print(top_5_stats)\n",
    "top_5_nodes = list(top_5_stats.index)"
   ]
  },
  {
   "cell_type": "markdown",
   "metadata": {},
   "source": [
    "You can observe how the payment success rate dropped by removing 5 important routers"
   ]
  },
  {
   "cell_type": "code",
   "execution_count": null,
   "metadata": {},
   "outputs": [],
   "source": [
    "_, _, _, _ = sim.simulate(weight=\"total_fee\", excluded=top_5_nodes)\n",
    "print(\"Succes rate AFTER exclusion:\", sim.transactions[\"success\"].mean())"
   ]
  },
  {
   "cell_type": "markdown",
   "metadata": {},
   "source": [
    "### Node capacity reduction\n",
    "\n",
    "You can observe the traffic changes for a node by reducing its capacity to a given fraction of its original value. \n",
    "\n",
    "**In this example we reduce capacity to 10% of the top 5 nodes with highest routing income. Then we compare their new income with the original.**"
   ]
  },
  {
   "cell_type": "code",
   "execution_count": null,
   "metadata": {},
   "outputs": [],
   "source": [
    "_, _, reduced_fees, _ = sim.simulate(weight=\"total_fee\", cap_change_nodes=top_5_nodes, capacity_fraction=0.1)\n",
    "print(\"Succes rate AFTER capacity reduction:\", sim.transactions[\"success\"].mean())"
   ]
  },
  {
   "cell_type": "code",
   "execution_count": null,
   "metadata": {},
   "outputs": [],
   "source": [
    "new_stats = reduced_fees.groupby(\"node\")[\"fee\"].sum()\n",
    "old_and_new = top_5_stats.reset_index().merge(new_stats.reset_index(), on=\"node\", how=\"left\", suffixes=(\"_old\",\"_new\"))\n",
    "print(old_and_new.fillna(0.0))"
   ]
  },
  {
   "cell_type": "markdown",
   "metadata": {},
   "source": [
    "## Longer path (genetic) routing\n",
    "\n",
    "In our [paper](https://arxiv.org/abs/1911.09432) we proposed a genetic algorithm to find cheap paths with at least a given length (`required_length` parameter). By default genetic routing is disabled (`required_length=None`). \n",
    "\n",
    "**We note that..** \n",
    "\n",
    "- using a higher value for `required_length` could increase the running time significantly.\n",
    "- payment paths with length 1 (direct channels) won't be forced to longer as with zero intermediary node there is no privacy issue here\n",
    "- if the genetic algorithm cannot find a path with the required length then it will return a path that is lower than this bound\n",
    "\n",
    "**In this example we will observe the path length distribution for different values of the `required_length` parameter**"
   ]
  },
  {
   "cell_type": "code",
   "execution_count": null,
   "metadata": {},
   "outputs": [],
   "source": [
    "sim_for_routing = ts.TransactionSimulator(directed_edges, providers, amount, count)\n",
    "\n",
    "min_path_l = [2,3,4]\n",
    "length_distrib_map = {}\n",
    "\n",
    "for length_value in min_path_l:\n",
    "    cheapest_paths, _, _, _ = sim.simulate(weight=\"total_fee\", required_length=length_value)\n",
    "    length_distrib_map[length_value] = cheapest_paths[\"length\"].value_counts()\n",
    "    print(length_value)"
   ]
  },
  {
   "cell_type": "markdown",
   "metadata": {},
   "source": [
    "Observe the fraction of path with a given length (rows). The columns represent values of the `required_length` parameter. **The fraction of path in (3,3) and (4,4) cell of the heatmap are indeed high due to longer path routing.** We note that the row with index -1 represent the fraction of failed payments."
   ]
  },
  {
   "cell_type": "code",
   "execution_count": null,
   "metadata": {},
   "outputs": [],
   "source": [
    "import seaborn as sns\n",
    "\n",
    "distrib_df = pd.DataFrame(length_distrib_map)\n",
    "distrib_df = distrib_df / distrib_df.sum()\n",
    "sns.heatmap(distrib_df.loc[[-1,1,2,3,4]], cmap=\"coolwarm\", annot=True)"
   ]
  },
  {
   "cell_type": "markdown",
   "metadata": {},
   "source": [
    "## Base fee optimization\n",
    "\n",
    "In the Lightning Network data that we observed more than 60\\% of the nodes charged the default base fee. From a node's position in the network `lnsimulator` can estimate the base fee increment needed to achieve optimal routing by setting `with_node_removals=True` and calling `calc_optimal_base_fee` function afterwards. **For now optimal base fee search is enabled only for cheapest path routing (`weight=\"total_fee`). We also recommend you apply parallelization by setting a higher value for the `max_threads` parameter.**"
   ]
  },
  {
   "cell_type": "code",
   "execution_count": null,
   "metadata": {},
   "outputs": [],
   "source": [
    "sim_fee_opt = ts.TransactionSimulator(directed_edges, providers, amount, count)\n",
    "shortest_paths, alternative_paths, all_router_fees, _ = sim_fee_opt.simulate(weight=\"total_fee\", with_node_removals=True, max_threads=2)\n",
    "opt_fee_df, _ = ts.calc_optimal_base_fee(shortest_paths, alternative_paths, all_router_fees)\n",
    "print(opt_fee_df.head())"
   ]
  },
  {
   "cell_type": "markdown",
   "metadata": {},
   "source": [
    "The result of `calc_optimal_base_fee` contains the following informations.\n",
    "\n",
    "| Column | Description |\n",
    "|     :---      |   :---   |\n",
    "| node | LN node public key |\n",
    "| total_income | routing income |\n",
    "| total_traffic | number of routed transactions |\n",
    "| failed_traffic_ratio | ratio of failed transactions out of `total_traffic` payments if `node` is removed from LN  |\n",
    "| opt_delta | estimated optimal increase in base fee |\n",
    "| income_diff | estimated increase in daily routing income after applying optimal base fee increment |\n",
    "\n",
    "In the next step we transform the `opt_delta` column into a categorical feature that represent the increment magnitude."
   ]
  },
  {
   "cell_type": "code",
   "execution_count": null,
   "metadata": {},
   "outputs": [],
   "source": [
    "def to_category(x):\n",
    "    if x > 100:\n",
    "        return 3\n",
    "    elif x > 10:\n",
    "        return 2\n",
    "    elif x > 0:\n",
    "        return 1\n",
    "    else:\n",
    "        return 0\n",
    "    \n",
    "print(\"The magnitude distribution of base fee increments:\")\n",
    "print(opt_fee_df[\"opt_delta\"].apply(to_category).value_counts())"
   ]
  }
 ],
 "metadata": {
  "kernelspec": {
   "display_name": "Python 3 (ipykernel)",
   "language": "python",
   "name": "python3"
  },
  "language_info": {
   "codemirror_mode": {
    "name": "ipython",
    "version": 3
   },
   "file_extension": ".py",
   "mimetype": "text/x-python",
   "name": "python",
   "nbconvert_exporter": "python",
   "pygments_lexer": "ipython3",
   "version": "3.8.13"
  }
 },
 "nbformat": 4,
 "nbformat_minor": 4
}
